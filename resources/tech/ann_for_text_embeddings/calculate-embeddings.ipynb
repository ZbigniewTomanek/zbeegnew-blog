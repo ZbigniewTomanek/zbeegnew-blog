{
 "cells": [
  {
   "cell_type": "code",
   "execution_count": null,
   "metadata": {},
   "outputs": [],
   "source": [
    "from datasets import load_dataset\n",
    "from sentence_transformers import SentenceTransformer\n",
    "import pandas as pd\n",
    "from tqdm import tqdm\n",
    "import pickle as pkl\n",
    "import os"
   ]
  },
  {
   "cell_type": "code",
   "execution_count": null,
   "metadata": {},
   "outputs": [],
   "source": [
    "dataset = load_dataset(\"reuters21578\", \"ModHayes\")"
   ]
  },
  {
   "cell_type": "code",
   "execution_count": null,
   "metadata": {},
   "outputs": [],
   "source": [
    "model = SentenceTransformer(\"all-MiniLM-L6-v2\")"
   ]
  },
  {
   "cell_type": "code",
   "execution_count": null,
   "metadata": {},
   "outputs": [],
   "source": [
    "texts = dataset[\"train\"][\"text\"] + dataset[\"test\"][\"text\"]\n",
    "print(len(texts))\n",
    "print(texts[0])"
   ]
  },
  {
   "cell_type": "code",
   "execution_count": null,
   "metadata": {},
   "outputs": [],
   "source": [
    "text_df = pd.DataFrame({\"text\": texts, \"id\": list(range(len(texts)))}, columns=[\"text\", \"id\"])\n",
    "text_df"
   ]
  },
  {
   "cell_type": "code",
   "execution_count": null,
   "metadata": {},
   "outputs": [],
   "source": [
    "def split_with_overlap(text: str, split_size: int, overlap: int) -> list[str]:\n",
    "    splits = []\n",
    "    for i in range(0, len(text), split_size - overlap):\n",
    "        splits.append(text[i : i + split_size])\n",
    "    return splits\n",
    "split_with_overlap(texts[0], 256, 100)"
   ]
  },
  {
   "cell_type": "code",
   "execution_count": null,
   "metadata": {},
   "outputs": [],
   "source": [
    "embeddings = []\n",
    "ids = []\n",
    "\n",
    "for text, id in tqdm(zip(text_df[\"text\"], text_df[\"id\"]), total=len(text_df)):\n",
    "    splits = split_with_overlap(text, 256, 100)\n",
    "    split_embeddings = model.encode(splits, normalize_embeddings=True)\n",
    "    embeddings.extend(split_embeddings)\n",
    "    ids.extend([id] * len(split_embeddings))"
   ]
  },
  {
   "cell_type": "code",
   "execution_count": null,
   "metadata": {},
   "outputs": [],
   "source": [
    "embeddings_df = pd.DataFrame({\"embeddings\": embeddings, \"id\": ids}, columns=[\"embeddings\", \"id\"])\n",
    "embeddings_df"
   ]
  },
  {
   "cell_type": "code",
   "execution_count": null,
   "metadata": {},
   "outputs": [],
   "source": [
    "out_dir = \"./out\"\n",
    "data = (text_df, embeddings_df)\n",
    "os.makedirs(out_dir, exist_ok=True)\n",
    "with open(os.path.join(out_dir, \"embeddings.pkl\"), \"wb\") as f:\n",
    "    pkl.dump(data, f)"
   ]
  }
 ],
 "metadata": {
  "kernelspec": {
   "display_name": ".venv",
   "language": "python",
   "name": "python3"
  },
  "language_info": {
   "codemirror_mode": {
    "name": "ipython",
    "version": 3
   },
   "file_extension": ".py",
   "mimetype": "text/x-python",
   "name": "python",
   "nbconvert_exporter": "python",
   "pygments_lexer": "ipython3",
   "version": "3.9.16"
  }
 },
 "nbformat": 4,
 "nbformat_minor": 2
}
